{
 "cells": [
  {
   "cell_type": "markdown",
   "metadata": {},
   "source": [
    "# Летняя школа. Задание 3 (про пьяницу на краю утеса).\n",
    "Для решения использовался рекурсивный обход двоичного дерева (первый вариант, пришедший в голову), в котором листьями являются вероятности того, что пьяница не упадет с обрыва с определенного расстояния при определенном количестве возможных шагов. При таком методе нахождение вероятности при большом количестве возможных шагов занимает много времени и вычислительное мощности (сложность алгоритма порядка O(n^2)), однако этот метод универсален - можно задать любое расстояние до утеса и любое количество шагов."
   ]
  },
  {
   "cell_type": "code",
   "execution_count": 2,
   "metadata": {
    "collapsed": false
   },
   "outputs": [
    {
     "name": "stdout",
     "output_type": "stream",
     "text": [
      "Вероятность того, что пьяница не упадет со скалы, шагая 5 раз с расстояния 2 шагов = 0.8395061728395061\n"
     ]
    }
   ],
   "source": [
    "\"\"\"\n",
    "Летняя школа 2017. Вступительное задание мастерской Data Science.\n",
    "Выполнил Соколов Даниил\n",
    "\"\"\"\n",
    "from matplotlib import mlab\n",
    "import pylab\n",
    "\n",
    "dist = 2#Расстояние до пропасти\n",
    "N=5     #Количество шагов\n",
    "\n",
    "def probability (dist, N):\n",
    "    #Если до пропасти расстояние больше, чем доступно шагов, то достоверно известно, что он не упадет\n",
    "    if(dist > N):\n",
    "        return 1\n",
    "    #Если расстояние до пропасти - 0, то достоверно известно, что он падает\n",
    "    if(dist == 0):\n",
    "        return 0\n",
    "    if N > 0:\n",
    "        a=(probability (dist + 1, N - 1)) #Вероятность того, что он упадет, сделав шаг назад\n",
    "        b=(probability (dist - 1, N - 1)) #Вероятность того, что он упадет, сделав шаг вперед\n",
    "        prob = 2/3*a + 1/3*b #Вероятность на данном шаге\n",
    "        return prob\n",
    "print(\"Вероятность того, что пьяница не упадет со скалы, шагая\", N, \"раз с расстояния\", dist, \"шагов =\", probability (dist,N))\n",
    "\n"
   ]
  },
  {
   "cell_type": "code",
   "execution_count": 3,
   "metadata": {
    "collapsed": false
   },
   "outputs": [
    {
     "data": {
      "image/png": "[encoded data removed]",
      "text/plain": [
       "<matplotlib.figure.Figure at 0x17ea431b9b0>"
      ]
     },
     "metadata": {},
     "output_type": "display_data"
    }
   ],
   "source": [
    "#Вывод графика\n",
    "xmin = 0\n",
    "xmax = 20\n",
    "dx = 1\n",
    "\n",
    "xlist = mlab.frange (xmin, xmax, dx)\n",
    "ylist = [probability (dist,n) for n in xlist]\n",
    "\n",
    "pylab.plot (xlist, ylist)\n",
    "pylab.show()"
   ]
  },
  {
   "cell_type": "code",
   "execution_count": null,
   "metadata": {
    "collapsed": true
   },
   "outputs": [],
   "source": []
  }
 ],
 "metadata": {
  "kernelspec": {
   "display_name": "Python 3",
   "language": "python",
   "name": "python3"
  },
  "language_info": {
   "codemirror_mode": {
    "name": "ipython",
    "version": 3
   },
   "file_extension": ".py",
   "mimetype": "text/x-python",
   "name": "python",
   "nbconvert_exporter": "python",
   "pygments_lexer": "ipython3",
   "version": "3.6.0"
  }
 },
 "nbformat": 4,
 "nbformat_minor": 2
}
